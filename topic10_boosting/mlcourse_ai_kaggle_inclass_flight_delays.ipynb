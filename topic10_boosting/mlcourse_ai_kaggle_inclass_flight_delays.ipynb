{
 "cells": [
  {
   "cell_type": "markdown",
   "metadata": {},
   "source": [
    "Task: beat \"A2 baseline (10 credits)\" on Public LB (0.75914 LB score)\n",
    "\n",
    "This notebook based on [Catboost starter](https://www.kaggle.com/kashnitsky/mlcourse-ai-fall-2019-catboost-starter)"
   ]
  },
  {
   "cell_type": "code",
   "execution_count": 1,
   "metadata": {},
   "outputs": [],
   "source": [
    "import warnings\n",
    "import numpy as np\n",
    "import pandas as pd\n",
    "from pathlib import Path\n",
    "from sklearn.model_selection import train_test_split, StratifiedKFold\n",
    "from sklearn.metrics import roc_auc_score\n",
    "from sklearn.metrics import accuracy_score, precision_score, recall_score, f1_score\n",
    "from sklearn.preprocessing import StandardScaler\n",
    "from catboost import CatBoostClassifier, Pool\n",
    "import matplotlib.pyplot as plt\n",
    "%matplotlib inline\n",
    "plt.style.use('ggplot')\n",
    "plt.rcParams[\"figure.figsize\"] = (18,9)\n",
    "from tqdm import tqdm\n",
    "import seaborn as sns"
   ]
  },
  {
   "cell_type": "code",
   "execution_count": 2,
   "metadata": {},
   "outputs": [],
   "source": [
    "def create_submission(test_pred, file_name='my_submission.csv'):\n",
    "    sample_submission = pd.read_csv(PATH_TO_DATA / 'sample_submission.csv', index_col = 'id')\n",
    "    sample_submission['dep_delayed_15min'] = test_pred\n",
    "    sample_submission.to_csv(file_name)"
   ]
  },
  {
   "cell_type": "markdown",
   "metadata": {},
   "source": [
    "Read the data"
   ]
  },
  {
   "cell_type": "code",
   "execution_count": 99,
   "metadata": {},
   "outputs": [],
   "source": [
    "PATH_TO_DATA = Path(r'../../data/flight-delays-fall-2018/')"
   ]
  },
  {
   "cell_type": "code",
   "execution_count": 311,
   "metadata": {},
   "outputs": [],
   "source": [
    "train_df = pd.read_csv(PATH_TO_DATA / 'flight_delays_train.csv')"
   ]
  },
  {
   "cell_type": "code",
   "execution_count": 312,
   "metadata": {},
   "outputs": [
    {
     "data": {
      "text/html": [
       "<div>\n",
       "<style scoped>\n",
       "    .dataframe tbody tr th:only-of-type {\n",
       "        vertical-align: middle;\n",
       "    }\n",
       "\n",
       "    .dataframe tbody tr th {\n",
       "        vertical-align: top;\n",
       "    }\n",
       "\n",
       "    .dataframe thead th {\n",
       "        text-align: right;\n",
       "    }\n",
       "</style>\n",
       "<table border=\"1\" class=\"dataframe\">\n",
       "  <thead>\n",
       "    <tr style=\"text-align: right;\">\n",
       "      <th></th>\n",
       "      <th>Month</th>\n",
       "      <th>DayofMonth</th>\n",
       "      <th>DayOfWeek</th>\n",
       "      <th>DepTime</th>\n",
       "      <th>UniqueCarrier</th>\n",
       "      <th>Origin</th>\n",
       "      <th>Dest</th>\n",
       "      <th>Distance</th>\n",
       "      <th>dep_delayed_15min</th>\n",
       "    </tr>\n",
       "  </thead>\n",
       "  <tbody>\n",
       "    <tr>\n",
       "      <th>0</th>\n",
       "      <td>c-8</td>\n",
       "      <td>c-21</td>\n",
       "      <td>c-7</td>\n",
       "      <td>1934</td>\n",
       "      <td>AA</td>\n",
       "      <td>ATL</td>\n",
       "      <td>DFW</td>\n",
       "      <td>732</td>\n",
       "      <td>N</td>\n",
       "    </tr>\n",
       "    <tr>\n",
       "      <th>1</th>\n",
       "      <td>c-4</td>\n",
       "      <td>c-20</td>\n",
       "      <td>c-3</td>\n",
       "      <td>1548</td>\n",
       "      <td>US</td>\n",
       "      <td>PIT</td>\n",
       "      <td>MCO</td>\n",
       "      <td>834</td>\n",
       "      <td>N</td>\n",
       "    </tr>\n",
       "    <tr>\n",
       "      <th>2</th>\n",
       "      <td>c-9</td>\n",
       "      <td>c-2</td>\n",
       "      <td>c-5</td>\n",
       "      <td>1422</td>\n",
       "      <td>XE</td>\n",
       "      <td>RDU</td>\n",
       "      <td>CLE</td>\n",
       "      <td>416</td>\n",
       "      <td>N</td>\n",
       "    </tr>\n",
       "    <tr>\n",
       "      <th>3</th>\n",
       "      <td>c-11</td>\n",
       "      <td>c-25</td>\n",
       "      <td>c-6</td>\n",
       "      <td>1015</td>\n",
       "      <td>OO</td>\n",
       "      <td>DEN</td>\n",
       "      <td>MEM</td>\n",
       "      <td>872</td>\n",
       "      <td>N</td>\n",
       "    </tr>\n",
       "    <tr>\n",
       "      <th>4</th>\n",
       "      <td>c-10</td>\n",
       "      <td>c-7</td>\n",
       "      <td>c-6</td>\n",
       "      <td>1828</td>\n",
       "      <td>WN</td>\n",
       "      <td>MDW</td>\n",
       "      <td>OMA</td>\n",
       "      <td>423</td>\n",
       "      <td>Y</td>\n",
       "    </tr>\n",
       "  </tbody>\n",
       "</table>\n",
       "</div>"
      ],
      "text/plain": [
       "  Month DayofMonth DayOfWeek  DepTime UniqueCarrier Origin Dest  Distance  \\\n",
       "0   c-8       c-21       c-7     1934            AA    ATL  DFW       732   \n",
       "1   c-4       c-20       c-3     1548            US    PIT  MCO       834   \n",
       "2   c-9        c-2       c-5     1422            XE    RDU  CLE       416   \n",
       "3  c-11       c-25       c-6     1015            OO    DEN  MEM       872   \n",
       "4  c-10        c-7       c-6     1828            WN    MDW  OMA       423   \n",
       "\n",
       "  dep_delayed_15min  \n",
       "0                 N  \n",
       "1                 N  \n",
       "2                 N  \n",
       "3                 N  \n",
       "4                 Y  "
      ]
     },
     "execution_count": 312,
     "metadata": {},
     "output_type": "execute_result"
    }
   ],
   "source": [
    "train_df.head()"
   ]
  },
  {
   "cell_type": "code",
   "execution_count": 313,
   "metadata": {},
   "outputs": [],
   "source": [
    "test_df = pd.read_csv(PATH_TO_DATA / 'flight_delays_test.csv')"
   ]
  },
  {
   "cell_type": "code",
   "execution_count": 314,
   "metadata": {},
   "outputs": [
    {
     "data": {
      "text/html": [
       "<div>\n",
       "<style scoped>\n",
       "    .dataframe tbody tr th:only-of-type {\n",
       "        vertical-align: middle;\n",
       "    }\n",
       "\n",
       "    .dataframe tbody tr th {\n",
       "        vertical-align: top;\n",
       "    }\n",
       "\n",
       "    .dataframe thead th {\n",
       "        text-align: right;\n",
       "    }\n",
       "</style>\n",
       "<table border=\"1\" class=\"dataframe\">\n",
       "  <thead>\n",
       "    <tr style=\"text-align: right;\">\n",
       "      <th></th>\n",
       "      <th>Month</th>\n",
       "      <th>DayofMonth</th>\n",
       "      <th>DayOfWeek</th>\n",
       "      <th>DepTime</th>\n",
       "      <th>UniqueCarrier</th>\n",
       "      <th>Origin</th>\n",
       "      <th>Dest</th>\n",
       "      <th>Distance</th>\n",
       "    </tr>\n",
       "  </thead>\n",
       "  <tbody>\n",
       "    <tr>\n",
       "      <th>99995</th>\n",
       "      <td>c-6</td>\n",
       "      <td>c-5</td>\n",
       "      <td>c-2</td>\n",
       "      <td>852</td>\n",
       "      <td>WN</td>\n",
       "      <td>CRP</td>\n",
       "      <td>HOU</td>\n",
       "      <td>187</td>\n",
       "    </tr>\n",
       "    <tr>\n",
       "      <th>99996</th>\n",
       "      <td>c-11</td>\n",
       "      <td>c-24</td>\n",
       "      <td>c-6</td>\n",
       "      <td>1446</td>\n",
       "      <td>UA</td>\n",
       "      <td>ORD</td>\n",
       "      <td>LAS</td>\n",
       "      <td>1515</td>\n",
       "    </tr>\n",
       "    <tr>\n",
       "      <th>99997</th>\n",
       "      <td>c-1</td>\n",
       "      <td>c-30</td>\n",
       "      <td>c-2</td>\n",
       "      <td>1509</td>\n",
       "      <td>OO</td>\n",
       "      <td>ORD</td>\n",
       "      <td>SGF</td>\n",
       "      <td>438</td>\n",
       "    </tr>\n",
       "    <tr>\n",
       "      <th>99998</th>\n",
       "      <td>c-1</td>\n",
       "      <td>c-5</td>\n",
       "      <td>c-5</td>\n",
       "      <td>804</td>\n",
       "      <td>DL</td>\n",
       "      <td>LGA</td>\n",
       "      <td>ATL</td>\n",
       "      <td>761</td>\n",
       "    </tr>\n",
       "    <tr>\n",
       "      <th>99999</th>\n",
       "      <td>c-10</td>\n",
       "      <td>c-29</td>\n",
       "      <td>c-1</td>\n",
       "      <td>834</td>\n",
       "      <td>OO</td>\n",
       "      <td>MKE</td>\n",
       "      <td>MSP</td>\n",
       "      <td>297</td>\n",
       "    </tr>\n",
       "  </tbody>\n",
       "</table>\n",
       "</div>"
      ],
      "text/plain": [
       "      Month DayofMonth DayOfWeek  DepTime UniqueCarrier Origin Dest  Distance\n",
       "99995   c-6        c-5       c-2      852            WN    CRP  HOU       187\n",
       "99996  c-11       c-24       c-6     1446            UA    ORD  LAS      1515\n",
       "99997   c-1       c-30       c-2     1509            OO    ORD  SGF       438\n",
       "99998   c-1        c-5       c-5      804            DL    LGA  ATL       761\n",
       "99999  c-10       c-29       c-1      834            OO    MKE  MSP       297"
      ]
     },
     "execution_count": 314,
     "metadata": {},
     "output_type": "execute_result"
    }
   ],
   "source": [
    "test_df.tail()"
   ]
  },
  {
   "cell_type": "code",
   "execution_count": 963,
   "metadata": {},
   "outputs": [],
   "source": [
    "# train_df: UniqueCarrier-22, Origin-289, Dest-289\n",
    "# test_df: UniqueCarrier-20, Origin-300, Dest-298\n",
    "# len(train_df['DayofMonth'].unique())"
   ]
  },
  {
   "cell_type": "code",
   "execution_count": 8,
   "metadata": {},
   "outputs": [
    {
     "data": {
      "text/plain": [
       "N    80956\n",
       "Y    19044\n",
       "Name: dep_delayed_15min, dtype: int64"
      ]
     },
     "execution_count": 8,
     "metadata": {},
     "output_type": "execute_result"
    }
   ],
   "source": [
    "train_df['dep_delayed_15min'].value_counts()"
   ]
  },
  {
   "cell_type": "markdown",
   "metadata": {},
   "source": [
    "Features processing"
   ]
  },
  {
   "cell_type": "code",
   "execution_count": 315,
   "metadata": {},
   "outputs": [],
   "source": [
    "train_df['Month'] = train_df['Month'].str.replace('c-','').astype('int64')\n",
    "train_df['DayofMonth'] = train_df['DayofMonth'].str.replace('c-','').astype('int64')\n",
    "train_df['DayOfWeek'] = train_df['DayOfWeek'].str.replace('c-','').astype('int64')\n",
    "\n",
    "test_df['Month'] = test_df['Month'].str.replace('c-','').astype('int64')\n",
    "test_df['DayofMonth'] = test_df['DayofMonth'].str.replace('c-','').astype('int64')\n",
    "test_df['DayOfWeek'] = test_df['DayOfWeek'].str.replace('c-','').astype('int64')"
   ]
  },
  {
   "cell_type": "code",
   "execution_count": 316,
   "metadata": {},
   "outputs": [
    {
     "name": "stdout",
     "output_type": "stream",
     "text": [
      "<class 'pandas.core.frame.DataFrame'>\n",
      "RangeIndex: 100000 entries, 0 to 99999\n",
      "Data columns (total 9 columns):\n",
      " #   Column             Non-Null Count   Dtype \n",
      "---  ------             --------------   ----- \n",
      " 0   Month              100000 non-null  int64 \n",
      " 1   DayofMonth         100000 non-null  int64 \n",
      " 2   DayOfWeek          100000 non-null  int64 \n",
      " 3   DepTime            100000 non-null  int64 \n",
      " 4   UniqueCarrier      100000 non-null  object\n",
      " 5   Origin             100000 non-null  object\n",
      " 6   Dest               100000 non-null  object\n",
      " 7   Distance           100000 non-null  int64 \n",
      " 8   dep_delayed_15min  100000 non-null  object\n",
      "dtypes: int64(5), object(4)\n",
      "memory usage: 6.9+ MB\n"
     ]
    }
   ],
   "source": [
    "train_df.info()"
   ]
  },
  {
   "cell_type": "markdown",
   "metadata": {},
   "source": [
    "Visual Analysis"
   ]
  },
  {
   "cell_type": "code",
   "execution_count": 97,
   "metadata": {},
   "outputs": [
    {
     "data": {
      "image/png": "[encoded data removed]",
      "text/plain": [
       "<Figure size 1296x648 with 1 Axes>"
      ]
     },
     "metadata": {},
     "output_type": "display_data"
    }
   ],
   "source": [
    "sns.countplot(data=train_df, x='Month', hue='dep_delayed_15min');"
   ]
  },
  {
   "cell_type": "code",
   "execution_count": 317,
   "metadata": {},
   "outputs": [
    {
     "data": {
      "image/png": "[encoded data removed]",
      "text/plain": [
       "<Figure size 1296x648 with 1 Axes>"
      ]
     },
     "metadata": {},
     "output_type": "display_data"
    }
   ],
   "source": [
    "sns.countplot(data=train_df, x='DayofMonth', hue='dep_delayed_15min');"
   ]
  },
  {
   "cell_type": "code",
   "execution_count": 99,
   "metadata": {},
   "outputs": [
    {
     "data": {
      "image/png": "[encoded data removed]",
      "text/plain": [
       "<Figure size 1296x648 with 1 Axes>"
      ]
     },
     "metadata": {},
     "output_type": "display_data"
    }
   ],
   "source": [
    "sns.countplot(data=train_df, x='DayOfWeek', hue='dep_delayed_15min');"
   ]
  },
  {
   "cell_type": "code",
   "execution_count": 100,
   "metadata": {},
   "outputs": [
    {
     "data": {
      "image/png": "[encoded data removed]",
      "text/plain": [
       "<Figure size 1296x648 with 1 Axes>"
      ]
     },
     "metadata": {},
     "output_type": "display_data"
    }
   ],
   "source": [
    "sns.countplot((train_df[\"DepTime\"]/100).astype('int64'), hue=train_df[\"dep_delayed_15min\"]);"
   ]
  },
  {
   "cell_type": "code",
   "execution_count": 101,
   "metadata": {},
   "outputs": [
    {
     "data": {
      "image/png": "[encoded data removed]",
      "text/plain": [
       "<Figure size 1296x648 with 1 Axes>"
      ]
     },
     "metadata": {},
     "output_type": "display_data"
    }
   ],
   "source": [
    "sns.countplot(data=train_df, x='UniqueCarrier', hue='dep_delayed_15min');"
   ]
  },
  {
   "cell_type": "code",
   "execution_count": 102,
   "metadata": {},
   "outputs": [
    {
     "data": {
      "image/png": "[encoded data removed]",
      "text/plain": [
       "<Figure size 1296x648 with 1 Axes>"
      ]
     },
     "metadata": {},
     "output_type": "display_data"
    }
   ],
   "source": [
    "sns.distplot(train_df.loc[train_df[\"dep_delayed_15min\"] == \"Y\"][\"Distance\"])\n",
    "sns.distplot(train_df.loc[train_df[\"dep_delayed_15min\"] == \"N\"][\"Distance\"])\n",
    "plt.legend(labels=['Y', 'N']);"
   ]
  },
  {
   "cell_type": "markdown",
   "metadata": {},
   "source": [
    "Create features"
   ]
  },
  {
   "cell_type": "code",
   "execution_count": 318,
   "metadata": {},
   "outputs": [],
   "source": [
    "# feature 'Origin_Dest'\n",
    "train_df['Origin_Dest'] = train_df['Origin'] + '_' + train_df['Dest']\n",
    "test_df['Origin_Dest'] = test_df['Origin'] + '_' + test_df['Dest']"
   ]
  },
  {
   "cell_type": "code",
   "execution_count": 319,
   "metadata": {},
   "outputs": [],
   "source": [
    "# feature 'season'\n",
    "seasons_map = {12: 'winter', 1: 'winter', 2: 'winter',\n",
    "               3: 'spring', 4: 'spring', 5: 'spring',\n",
    "               6: 'summer', 7: 'summer',8: 'summer',\n",
    "               9: 'autumn', 10: 'autumn', 11: 'autumn'\n",
    "              }\n",
    "train_df['Season'] = train_df['Month'].map(seasons_map)\n",
    "test_df['Season'] = test_df['Month'].map(seasons_map)"
   ]
  },
  {
   "cell_type": "code",
   "execution_count": 264,
   "metadata": {},
   "outputs": [],
   "source": [
    "# # feature 'month_period'\n",
    "# def month_period(day):\n",
    "#     if 0 < day < 11:\n",
    "#         return 'start'\n",
    "#     elif 10 < day < 21:\n",
    "#         return 'middle'\n",
    "#     elif 20 < day < 32:\n",
    "#         return 'finish'\n",
    "    \n",
    "# train_df['Month_period'] = train_df['DayofMonth'].apply(month_period)\n",
    "# test_df['Month_period'] = test_df['DayofMonth'].apply(month_period)"
   ]
  },
  {
   "cell_type": "code",
   "execution_count": 265,
   "metadata": {},
   "outputs": [],
   "source": [
    "# # feature 'workday'\n",
    "# train_df['Workday'] = train_df['DayOfWeek'].apply(lambda x: 'True' if x < 6 else 'False')\n",
    "# test_df['Workday'] = test_df['DayOfWeek'].apply(lambda x: 'True' if x < 6 else 'False')"
   ]
  },
  {
   "cell_type": "code",
   "execution_count": 320,
   "metadata": {},
   "outputs": [],
   "source": [
    "# feature 'weekend'\n",
    "train_df['Weekend'] = train_df['DayOfWeek'].apply(lambda x: 'False' if x < 6 else 'True')\n",
    "test_df['Weekend'] = test_df['DayOfWeek'].apply(lambda x: 'False' if x < 6 else 'True')"
   ]
  },
  {
   "cell_type": "code",
   "execution_count": 321,
   "metadata": {},
   "outputs": [],
   "source": [
    "# feature 'daytime'\n",
    "def daytime(hour):\n",
    "    if hour == 24: \n",
    "        hour = 0\n",
    "    elif hour == 25:\n",
    "        hour = 1\n",
    "        \n",
    "    if 6 < hour < 13:\n",
    "        return 'morning'\n",
    "    elif 12 < hour < 19:\n",
    "        return 'day'\n",
    "    elif 18 < hour < 24:\n",
    "        return 'evening'    \n",
    "    elif 0 <= hour < 7:\n",
    "        return 'night'\n",
    "    \n",
    "train_df['Daytime'] = (train_df['DepTime']/100).astype('int64').apply(daytime)\n",
    "test_df['Daytime'] = (test_df['DepTime']/100).astype('int64').apply(daytime)"
   ]
  },
  {
   "cell_type": "code",
   "execution_count": 322,
   "metadata": {},
   "outputs": [],
   "source": [
    "# feature Dep_hour\n",
    "train_df['Dep_hour'] = (train_df['DepTime']/100).astype('int64')\n",
    "test_df['Dep_hour'] = (test_df['DepTime']/100).astype('int64')\n",
    "\n",
    "train_df.loc[train_df['Dep_hour'] == 24, 'Dep_hour'] = 0\n",
    "train_df.loc[train_df['Dep_hour'] == 25, 'Dep_hour'] = 1\n",
    "\n",
    "test_df.loc[train_df['Dep_hour'] == 24, 'Dep_hour'] = 0\n",
    "test_df.loc[train_df['Dep_hour'] == 25, 'Dep_hour'] = 1"
   ]
  },
  {
   "cell_type": "code",
   "execution_count": 323,
   "metadata": {},
   "outputs": [],
   "source": [
    "# Dep_hour_bin\n",
    "def dep_hour_bin(hour):\n",
    "    if hour == 24: \n",
    "        hour = 0\n",
    "    elif hour == 25:\n",
    "        hour = 1\n",
    "        \n",
    "    if 0 <= hour < 3:\n",
    "        return '0-2'\n",
    "    elif 2 < hour < 6:\n",
    "        return '3-5'\n",
    "    elif 5 < hour < 9:\n",
    "        return '6-8'    \n",
    "    elif 8 < hour < 12:\n",
    "        return '9-11'\n",
    "    elif 11 < hour < 15:\n",
    "        return '12-14'\n",
    "    elif 14 < hour < 18:\n",
    "        return '15-17'\n",
    "    elif 17 < hour < 21:\n",
    "        return '18-20'\n",
    "    elif 20 < hour < 24:\n",
    "        return '21-23'\n",
    "    \n",
    "train_df['Dep_hour_bin'] = (train_df['DepTime']/100).astype('int64').apply(dep_hour_bin)\n",
    "test_df['Dep_hour_bin'] = (test_df['DepTime']/100).astype('int64').apply(dep_hour_bin)"
   ]
  },
  {
   "cell_type": "code",
   "execution_count": 324,
   "metadata": {},
   "outputs": [],
   "source": [
    "# feature 'distance_bin'\n",
    "def distance_bin(distance):    \n",
    "    if 0 < distance < 501:\n",
    "        return '0-500'\n",
    "    elif 500 < distance < 1001:\n",
    "        return '501-1000'\n",
    "    elif 1000 < distance < 1501:\n",
    "        return '1001-1500'\n",
    "    elif 1500 < distance < 2001:\n",
    "        return '1501-2000'\n",
    "    elif 2000 < distance < 2501:\n",
    "        return '2001-2500'\n",
    "    elif 2500 < distance < 3001:\n",
    "        return '2501-3000'\n",
    "    elif 3000 < distance:\n",
    "        return '3001-...'\n",
    "\n",
    "train_df['distance_bin'] = train_df['Distance'].apply(distance_bin)\n",
    "test_df['distance_bin'] = test_df['Distance'].apply(distance_bin)"
   ]
  },
  {
   "cell_type": "code",
   "execution_count": 325,
   "metadata": {},
   "outputs": [],
   "source": [
    "# Dep_hour_2, Dep_hour_4\n",
    "train_df['Dep_hour_2'] = (train_df['Dep_hour']**2).astype(str)\n",
    "test_df['Dep_hour_2'] = (test_df['Dep_hour']**2).astype(str)\n",
    "\n",
    "train_df['Dep_hour_4'] = (train_df['Dep_hour']**4).astype(str)\n",
    "test_df['Dep_hour_4'] = (test_df['Dep_hour']**4).astype(str)"
   ]
  },
  {
   "cell_type": "code",
   "execution_count": 193,
   "metadata": {
    "scrolled": true
   },
   "outputs": [],
   "source": [
    "# Dep_hour_3\n",
    "# train_df['Dep_hour_3'] = (train_df['Dep_hour']**3).astype(str)\n",
    "# test_df['Dep_hour_3'] = (test_df['Dep_hour']**3).astype(str)"
   ]
  },
  {
   "cell_type": "code",
   "execution_count": 326,
   "metadata": {},
   "outputs": [],
   "source": [
    "# Dep_minute\n",
    "train_df['Dep_minute'] = (train_df['DepTime'] % 100)\n",
    "test_df['Dep_minute'] = (test_df['DepTime'] % 100)"
   ]
  },
  {
   "cell_type": "code",
   "execution_count": 296,
   "metadata": {},
   "outputs": [],
   "source": [
    "# train_df['Dep_minute_2'] = (train_df['Dep_minute']**2).astype(str)\n",
    "# test_df['Dep_minute_2'] = (test_df['Dep_minute']**2).astype(str)"
   ]
  },
  {
   "cell_type": "code",
   "execution_count": 327,
   "metadata": {},
   "outputs": [],
   "source": [
    "# season OHE: winter, spring, summer, autumn\n",
    "train_df['Winter'] = train_df['Season'] == 'winter'\n",
    "test_df['Winter'] = test_df['Season'] == 'winter'\n",
    "\n",
    "train_df['Spring'] = train_df['Season'] == 'spring'\n",
    "test_df['Spring'] = test_df['Season'] == 'spring'\n",
    "\n",
    "train_df['Summer'] = train_df['Season'] == 'summer'\n",
    "test_df['Summer'] = test_df['Season'] == 'summer'\n",
    "\n",
    "train_df['Autumn'] = train_df['Season'] == 'autumn'\n",
    "test_df['Autumn'] = test_df['Season'] == 'autumn'"
   ]
  },
  {
   "cell_type": "markdown",
   "metadata": {},
   "source": [
    "Features from catboost feature interactions importance"
   ]
  },
  {
   "cell_type": "code",
   "execution_count": 136,
   "metadata": {},
   "outputs": [],
   "source": [
    "# feature DepTime_Origin\n",
    "train_df['DepTime_Origin'] = train_df['DepTime'].astype(str) + '_' + train_df['Origin']\n",
    "test_df['DepTime_Origin'] = test_df['DepTime'].astype(str) + '_' + test_df['Origin']"
   ]
  },
  {
   "cell_type": "code",
   "execution_count": 138,
   "metadata": {},
   "outputs": [],
   "source": [
    "# feature DepTime_Distance\n",
    "train_df['DepTime_Distance'] = train_df['DepTime'].astype(str) + '_' + train_df['Distance'].astype(str)\n",
    "test_df['DepTime_Distance'] = test_df['DepTime'].astype(str) + '_' + test_df['Distance'].astype(str)"
   ]
  },
  {
   "cell_type": "code",
   "execution_count": 141,
   "metadata": {},
   "outputs": [],
   "source": [
    "# feature Month_DayofMonth\n",
    "train_df['Month_DayofMonth'] = train_df['Month'].astype(str) + '_' + train_df['DayofMonth'].astype(str)\n",
    "test_df['Month_DayofMonth'] = test_df['Month'].astype(str) + '_' + test_df['DayofMonth'].astype(str)"
   ]
  },
  {
   "cell_type": "code",
   "execution_count": 139,
   "metadata": {},
   "outputs": [],
   "source": [
    "# feature DepTime_UniqueCarrier\n",
    "train_df['DepTime_UniqueCarrier'] = train_df['DepTime'].astype(str) + '_' + train_df['UniqueCarrier']\n",
    "test_df['DepTime_UniqueCarrier'] = test_df['DepTime'].astype(str) + '_' + test_df['UniqueCarrier']"
   ]
  },
  {
   "cell_type": "code",
   "execution_count": 140,
   "metadata": {},
   "outputs": [],
   "source": [
    "# feature DepTime_Origin_Dest\n",
    "train_df['DepTime_Origin_Dest'] = train_df['DepTime'].astype(str) + '_' + train_df['Origin_Dest']\n",
    "test_df['DepTime_Origin_Dest'] = test_df['DepTime'].astype(str) + '_' + test_df['Origin_Dest']"
   ]
  },
  {
   "cell_type": "code",
   "execution_count": 328,
   "metadata": {},
   "outputs": [],
   "source": [
    "# feature UniqueCarrier_Dest\n",
    "train_df['UniqueCarrier_Dest'] = train_df['UniqueCarrier']  + '_' +  train_df['Dest']\n",
    "test_df['UniqueCarrier_Dest'] = test_df['UniqueCarrier']  + '_' +  test_df['Dest']"
   ]
  },
  {
   "cell_type": "code",
   "execution_count": 161,
   "metadata": {},
   "outputs": [],
   "source": [
    "# feature DepTime_Dest\n",
    "train_df['DepTime_Dest'] = train_df['DepTime'].astype(str) + '_' + train_df['Dest']\n",
    "test_df['DepTime_Dest'] = test_df['DepTime'].astype(str) + '_' + test_df['Dest']"
   ]
  },
  {
   "cell_type": "code",
   "execution_count": null,
   "metadata": {},
   "outputs": [],
   "source": [
    "# feature Month_Dest\n",
    "train_df['Month_Dest'] = train_df['Month'].astype(str) + '_' + train_df['Dest']\n",
    "test_df['Month_Dest'] = test_df['Month'].astype(str) + '_' + test_df['Dest']"
   ]
  },
  {
   "cell_type": "code",
   "execution_count": 176,
   "metadata": {},
   "outputs": [],
   "source": [
    "# Month_Origin\n",
    "train_df['Month_Origin'] = train_df['Month'].astype(str) + '_' + train_df['Origin']\n",
    "test_df['Month_Origin'] = test_df['Month'].astype(str) + '_' + test_df['Origin']"
   ]
  },
  {
   "cell_type": "code",
   "execution_count": 177,
   "metadata": {},
   "outputs": [],
   "source": [
    "# Month_UniqueCarrier\n",
    "train_df['Month_UniqueCarrier'] = train_df['Month'].astype(str) + '_' + train_df['UniqueCarrier']\n",
    "test_df['Month_UniqueCarrier'] = test_df['Month'].astype(str) + '_' + test_df['UniqueCarrier']"
   ]
  },
  {
   "cell_type": "code",
   "execution_count": 179,
   "metadata": {},
   "outputs": [],
   "source": [
    "# Month_DayOfWeek\n",
    "train_df['Month_DayOfWeek'] = train_df['Month'].astype(str) + '_' + train_df['DayOfWeek'].astype(str)\n",
    "test_df['Month_DayOfWeek'] = test_df['Month'].astype(str) + '_' + test_df['DayOfWeek'].astype(str)"
   ]
  },
  {
   "cell_type": "code",
   "execution_count": 180,
   "metadata": {},
   "outputs": [],
   "source": [
    "# Month_DepTime\n",
    "train_df['Month_DepTime'] = train_df['Month'].astype(str) + '_' + train_df['DepTime'].astype(str)\n",
    "test_df['Month_DepTime'] = test_df['Month'].astype(str) + '_' + test_df['DepTime'].astype(str)"
   ]
  },
  {
   "cell_type": "code",
   "execution_count": 181,
   "metadata": {},
   "outputs": [],
   "source": [
    "# DayofMonth_Dest\n",
    "train_df['DayofMonth_Dest'] = train_df['DayofMonth'].astype(str) + '_' + train_df['Dest']\n",
    "test_df['DayofMonth_Dest'] = test_df['DayofMonth'].astype(str) + '_' + test_df['Dest']"
   ]
  },
  {
   "cell_type": "code",
   "execution_count": 329,
   "metadata": {},
   "outputs": [],
   "source": [
    "# UniqueCarrier_Origin\n",
    "train_df['UniqueCarrier_Origin'] = train_df['UniqueCarrier'] + '_' + train_df['Origin']\n",
    "test_df['UniqueCarrier_Origin'] = test_df['UniqueCarrier'] + '_' + test_df['Origin']"
   ]
  },
  {
   "cell_type": "code",
   "execution_count": 354,
   "metadata": {},
   "outputs": [],
   "source": [
    "# UniqueCarrier_Origin_Dest\n",
    "train_df['UniqueCarrier_Origin_Dest'] = train_df['UniqueCarrier'] + '_' + train_df['Origin_Dest']\n",
    "test_df['UniqueCarrier_Origin_Dest'] = test_df['UniqueCarrier'] + '_' + test_df['Origin_Dest']"
   ]
  },
  {
   "cell_type": "code",
   "execution_count": 185,
   "metadata": {},
   "outputs": [],
   "source": [
    "# UniqueCarrier_Daytime\n",
    "train_df['UniqueCarrier_Daytime'] = train_df['UniqueCarrier'] + '_' + train_df['Daytime'].astype(str)\n",
    "test_df['UniqueCarrier_Daytime'] = test_df['UniqueCarrier'] + '_' + test_df['Daytime'].astype(str)"
   ]
  },
  {
   "cell_type": "code",
   "execution_count": 186,
   "metadata": {},
   "outputs": [],
   "source": [
    "# Dest_Daytime\n",
    "train_df['Dest_Daytime'] = train_df['Dest'] + '_' + train_df['Daytime'].astype(str)\n",
    "test_df['Dest_Daytime'] = test_df['Dest'] + '_' + test_df['Daytime'].astype(str)"
   ]
  },
  {
   "cell_type": "code",
   "execution_count": 187,
   "metadata": {},
   "outputs": [],
   "source": [
    "# Dest_Distance\n",
    "train_df['Dest_Distance'] = train_df['Dest'] + '_' + train_df['Distance'].astype(str)\n",
    "test_df['Dest_Distance'] = test_df['Dest'] + '_' + test_df['Distance'].astype(str)"
   ]
  },
  {
   "cell_type": "code",
   "execution_count": 188,
   "metadata": {},
   "outputs": [],
   "source": [
    "# DayOfWeek_Dest\n",
    "train_df['DayOfWeek_Dest'] = train_df['DayOfWeek'].astype(str) + '_' + train_df['Dest']\n",
    "test_df['DayOfWeek_Dest'] = test_df['DayOfWeek'].astype(str) + '_' + test_df['Dest']"
   ]
  },
  {
   "cell_type": "code",
   "execution_count": 189,
   "metadata": {},
   "outputs": [],
   "source": [
    "# DayofMonth_Origin\n",
    "train_df['DayofMonth_Origin'] = train_df['DayofMonth'].astype(str) + '_' + train_df['Origin']\n",
    "test_df['DayofMonth_Origin'] = test_df['DayofMonth'].astype(str) + '_' + test_df['Origin']"
   ]
  },
  {
   "cell_type": "code",
   "execution_count": 402,
   "metadata": {},
   "outputs": [],
   "source": [
    "# Origin_Dest_Dep_minute\n",
    "train_df['Origin_Dest_Dep_minute'] = train_df['Origin_Dest'] + '_' + train_df['Dep_minute'].astype(str)\n",
    "test_df['Origin_Dest_Dep_minute'] = test_df['Origin_Dest'] + '_' + test_df['Dep_minute'].astype(str)"
   ]
  },
  {
   "cell_type": "code",
   "execution_count": 426,
   "metadata": {},
   "outputs": [],
   "source": [
    "# Origin_Dest_Dep_hour\n",
    "train_df['Origin_Dest_Dep_hour'] = train_df['Origin_Dest'] + '_' + train_df['Dep_hour']\n",
    "test_df['Origin_Dest_Dep_hour'] = test_df['Origin_Dest'] + '_' + test_df['Dep_hour']"
   ]
  },
  {
   "cell_type": "code",
   "execution_count": 458,
   "metadata": {},
   "outputs": [],
   "source": [
    "# Dest_UniqueCarrier_Origin\n",
    "train_df['Dest_UniqueCarrier_Origin'] = train_df['Dest'] + '_' + train_df['UniqueCarrier_Origin']\n",
    "test_df['Dest_UniqueCarrier_Origin'] = test_df['Dest'] + '_' + test_df['UniqueCarrier_Origin']"
   ]
  },
  {
   "cell_type": "code",
   "execution_count": null,
   "metadata": {},
   "outputs": [],
   "source": []
  },
  {
   "cell_type": "code",
   "execution_count": null,
   "metadata": {},
   "outputs": [],
   "source": []
  },
  {
   "cell_type": "markdown",
   "metadata": {},
   "source": [
    "Metrical to categorical"
   ]
  },
  {
   "cell_type": "code",
   "execution_count": 70,
   "metadata": {},
   "outputs": [],
   "source": [
    "# train_df['Month'] = train_df['Month'].astype(str)\n",
    "# test_df['Month'] = test_df['Month'].astype(str)"
   ]
  },
  {
   "cell_type": "code",
   "execution_count": 71,
   "metadata": {},
   "outputs": [],
   "source": [
    "# train_df['DayofMonth'] = train_df['DayofMonth'].astype(str)\n",
    "# test_df['DayofMonth'] = test_df['DayofMonth'].astype(str)"
   ]
  },
  {
   "cell_type": "code",
   "execution_count": 72,
   "metadata": {},
   "outputs": [],
   "source": [
    "# train_df['DayOfWeek'] = train_df['DayOfWeek'].astype(str)\n",
    "# test_df['DayOfWeek'] = test_df['DayOfWeek'].astype(str)"
   ]
  },
  {
   "cell_type": "code",
   "execution_count": 336,
   "metadata": {},
   "outputs": [],
   "source": [
    "train_df['Dep_hour'] = train_df['Dep_hour'].astype(str)\n",
    "test_df['Dep_hour'] = test_df['Dep_hour'].astype(str)\n",
    "\n",
    "# # train_df['Dep_hour'] = train_df['Dep_hour'].astype('int64')\n",
    "# # test_df['Dep_hour'] = test_df['Dep_hour'].astype('int64')"
   ]
  },
  {
   "cell_type": "code",
   "execution_count": 143,
   "metadata": {},
   "outputs": [],
   "source": [
    "# train_df['Dep_minute'] = train_df['Dep_minute'].astype('int64')\n",
    "# test_df['Dep_minute'] = test_df['Dep_minute'].astype('int64')"
   ]
  },
  {
   "cell_type": "code",
   "execution_count": null,
   "metadata": {},
   "outputs": [],
   "source": []
  },
  {
   "cell_type": "code",
   "execution_count": 459,
   "metadata": {},
   "outputs": [
    {
     "data": {
      "text/plain": [
       "(Index(['Month', 'DayofMonth', 'DayOfWeek', 'DepTime', 'UniqueCarrier',\n",
       "        'Origin', 'Dest', 'Distance', 'dep_delayed_15min', 'Origin_Dest',\n",
       "        'Season', 'Weekend', 'Daytime', 'Dep_hour', 'Dep_hour_bin',\n",
       "        'distance_bin', 'Dep_hour_2', 'Dep_hour_4', 'Dep_minute', 'Winter',\n",
       "        'Spring', 'Summer', 'Autumn', 'UniqueCarrier_Dest',\n",
       "        'UniqueCarrier_Origin', 'UniqueCarrier_Origin_Dest',\n",
       "        'Origin_Dest_Dep_minute', 'Origin_Dest_Dep_hour',\n",
       "        'Dest_UniqueCarrier_Origin'],\n",
       "       dtype='object'),\n",
       " 29)"
      ]
     },
     "execution_count": 459,
     "metadata": {},
     "output_type": "execute_result"
    }
   ],
   "source": [
    "train_df.columns, len(train_df.columns)"
   ]
  },
  {
   "cell_type": "code",
   "execution_count": 460,
   "metadata": {},
   "outputs": [
    {
     "name": "stdout",
     "output_type": "stream",
     "text": [
      "<class 'pandas.core.frame.DataFrame'>\n",
      "RangeIndex: 100000 entries, 0 to 99999\n",
      "Data columns (total 29 columns):\n",
      " #   Column                     Non-Null Count   Dtype \n",
      "---  ------                     --------------   ----- \n",
      " 0   Month                      100000 non-null  int64 \n",
      " 1   DayofMonth                 100000 non-null  int64 \n",
      " 2   DayOfWeek                  100000 non-null  int64 \n",
      " 3   DepTime                    100000 non-null  int64 \n",
      " 4   UniqueCarrier              100000 non-null  object\n",
      " 5   Origin                     100000 non-null  object\n",
      " 6   Dest                       100000 non-null  object\n",
      " 7   Distance                   100000 non-null  int64 \n",
      " 8   dep_delayed_15min          100000 non-null  object\n",
      " 9   Origin_Dest                100000 non-null  object\n",
      " 10  Season                     100000 non-null  object\n",
      " 11  Weekend                    100000 non-null  object\n",
      " 12  Daytime                    100000 non-null  object\n",
      " 13  Dep_hour                   100000 non-null  object\n",
      " 14  Dep_hour_bin               100000 non-null  object\n",
      " 15  distance_bin               100000 non-null  object\n",
      " 16  Dep_hour_2                 100000 non-null  object\n",
      " 17  Dep_hour_4                 100000 non-null  object\n",
      " 18  Dep_minute                 100000 non-null  int64 \n",
      " 19  Winter                     100000 non-null  bool  \n",
      " 20  Spring                     100000 non-null  bool  \n",
      " 21  Summer                     100000 non-null  bool  \n",
      " 22  Autumn                     100000 non-null  bool  \n",
      " 23  UniqueCarrier_Dest         100000 non-null  object\n",
      " 24  UniqueCarrier_Origin       100000 non-null  object\n",
      " 25  UniqueCarrier_Origin_Dest  100000 non-null  object\n",
      " 26  Origin_Dest_Dep_minute     100000 non-null  object\n",
      " 27  Origin_Dest_Dep_hour       100000 non-null  object\n",
      " 28  Dest_UniqueCarrier_Origin  100000 non-null  object\n",
      "dtypes: bool(4), int64(6), object(19)\n",
      "memory usage: 19.5+ MB\n"
     ]
    }
   ],
   "source": [
    "train_df.info()"
   ]
  },
  {
   "cell_type": "code",
   "execution_count": 461,
   "metadata": {},
   "outputs": [
    {
     "data": {
      "text/html": [
       "<div>\n",
       "<style scoped>\n",
       "    .dataframe tbody tr th:only-of-type {\n",
       "        vertical-align: middle;\n",
       "    }\n",
       "\n",
       "    .dataframe tbody tr th {\n",
       "        vertical-align: top;\n",
       "    }\n",
       "\n",
       "    .dataframe thead th {\n",
       "        text-align: right;\n",
       "    }\n",
       "</style>\n",
       "<table border=\"1\" class=\"dataframe\">\n",
       "  <thead>\n",
       "    <tr style=\"text-align: right;\">\n",
       "      <th></th>\n",
       "      <th>Month</th>\n",
       "      <th>DayofMonth</th>\n",
       "      <th>DayOfWeek</th>\n",
       "      <th>DepTime</th>\n",
       "      <th>UniqueCarrier</th>\n",
       "      <th>Origin</th>\n",
       "      <th>Dest</th>\n",
       "      <th>Distance</th>\n",
       "      <th>Origin_Dest</th>\n",
       "      <th>Season</th>\n",
       "      <th>...</th>\n",
       "      <th>Winter</th>\n",
       "      <th>Spring</th>\n",
       "      <th>Summer</th>\n",
       "      <th>Autumn</th>\n",
       "      <th>UniqueCarrier_Dest</th>\n",
       "      <th>UniqueCarrier_Origin</th>\n",
       "      <th>UniqueCarrier_Origin_Dest</th>\n",
       "      <th>Origin_Dest_Dep_minute</th>\n",
       "      <th>Origin_Dest_Dep_hour</th>\n",
       "      <th>Dest_UniqueCarrier_Origin</th>\n",
       "    </tr>\n",
       "  </thead>\n",
       "  <tbody>\n",
       "    <tr>\n",
       "      <th>0</th>\n",
       "      <td>7</td>\n",
       "      <td>25</td>\n",
       "      <td>3</td>\n",
       "      <td>615</td>\n",
       "      <td>YV</td>\n",
       "      <td>MRY</td>\n",
       "      <td>PHX</td>\n",
       "      <td>598</td>\n",
       "      <td>MRY_PHX</td>\n",
       "      <td>summer</td>\n",
       "      <td>...</td>\n",
       "      <td>False</td>\n",
       "      <td>False</td>\n",
       "      <td>True</td>\n",
       "      <td>False</td>\n",
       "      <td>YV_PHX</td>\n",
       "      <td>YV_MRY</td>\n",
       "      <td>YV_MRY_PHX</td>\n",
       "      <td>MRY_PHX_15</td>\n",
       "      <td>MRY_PHX_6</td>\n",
       "      <td>PHX_YV_MRY</td>\n",
       "    </tr>\n",
       "    <tr>\n",
       "      <th>1</th>\n",
       "      <td>4</td>\n",
       "      <td>17</td>\n",
       "      <td>2</td>\n",
       "      <td>739</td>\n",
       "      <td>WN</td>\n",
       "      <td>LAS</td>\n",
       "      <td>HOU</td>\n",
       "      <td>1235</td>\n",
       "      <td>LAS_HOU</td>\n",
       "      <td>spring</td>\n",
       "      <td>...</td>\n",
       "      <td>False</td>\n",
       "      <td>True</td>\n",
       "      <td>False</td>\n",
       "      <td>False</td>\n",
       "      <td>WN_HOU</td>\n",
       "      <td>WN_LAS</td>\n",
       "      <td>WN_LAS_HOU</td>\n",
       "      <td>LAS_HOU_39</td>\n",
       "      <td>LAS_HOU_7</td>\n",
       "      <td>HOU_WN_LAS</td>\n",
       "    </tr>\n",
       "    <tr>\n",
       "      <th>2</th>\n",
       "      <td>12</td>\n",
       "      <td>2</td>\n",
       "      <td>7</td>\n",
       "      <td>651</td>\n",
       "      <td>MQ</td>\n",
       "      <td>GSP</td>\n",
       "      <td>ORD</td>\n",
       "      <td>577</td>\n",
       "      <td>GSP_ORD</td>\n",
       "      <td>winter</td>\n",
       "      <td>...</td>\n",
       "      <td>True</td>\n",
       "      <td>False</td>\n",
       "      <td>False</td>\n",
       "      <td>False</td>\n",
       "      <td>MQ_ORD</td>\n",
       "      <td>MQ_GSP</td>\n",
       "      <td>MQ_GSP_ORD</td>\n",
       "      <td>GSP_ORD_51</td>\n",
       "      <td>GSP_ORD_6</td>\n",
       "      <td>ORD_MQ_GSP</td>\n",
       "    </tr>\n",
       "    <tr>\n",
       "      <th>3</th>\n",
       "      <td>3</td>\n",
       "      <td>25</td>\n",
       "      <td>7</td>\n",
       "      <td>1614</td>\n",
       "      <td>WN</td>\n",
       "      <td>BWI</td>\n",
       "      <td>MHT</td>\n",
       "      <td>377</td>\n",
       "      <td>BWI_MHT</td>\n",
       "      <td>spring</td>\n",
       "      <td>...</td>\n",
       "      <td>False</td>\n",
       "      <td>True</td>\n",
       "      <td>False</td>\n",
       "      <td>False</td>\n",
       "      <td>WN_MHT</td>\n",
       "      <td>WN_BWI</td>\n",
       "      <td>WN_BWI_MHT</td>\n",
       "      <td>BWI_MHT_14</td>\n",
       "      <td>BWI_MHT_16</td>\n",
       "      <td>MHT_WN_BWI</td>\n",
       "    </tr>\n",
       "    <tr>\n",
       "      <th>4</th>\n",
       "      <td>6</td>\n",
       "      <td>6</td>\n",
       "      <td>3</td>\n",
       "      <td>1505</td>\n",
       "      <td>UA</td>\n",
       "      <td>ORD</td>\n",
       "      <td>STL</td>\n",
       "      <td>258</td>\n",
       "      <td>ORD_STL</td>\n",
       "      <td>summer</td>\n",
       "      <td>...</td>\n",
       "      <td>False</td>\n",
       "      <td>False</td>\n",
       "      <td>True</td>\n",
       "      <td>False</td>\n",
       "      <td>UA_STL</td>\n",
       "      <td>UA_ORD</td>\n",
       "      <td>UA_ORD_STL</td>\n",
       "      <td>ORD_STL_5</td>\n",
       "      <td>ORD_STL_15</td>\n",
       "      <td>STL_UA_ORD</td>\n",
       "    </tr>\n",
       "  </tbody>\n",
       "</table>\n",
       "<p>5 rows × 28 columns</p>\n",
       "</div>"
      ],
      "text/plain": [
       "   Month  DayofMonth  DayOfWeek  DepTime UniqueCarrier Origin Dest  Distance  \\\n",
       "0      7          25          3      615            YV    MRY  PHX       598   \n",
       "1      4          17          2      739            WN    LAS  HOU      1235   \n",
       "2     12           2          7      651            MQ    GSP  ORD       577   \n",
       "3      3          25          7     1614            WN    BWI  MHT       377   \n",
       "4      6           6          3     1505            UA    ORD  STL       258   \n",
       "\n",
       "  Origin_Dest  Season  ... Winter Spring Summer Autumn UniqueCarrier_Dest  \\\n",
       "0     MRY_PHX  summer  ...  False  False   True  False             YV_PHX   \n",
       "1     LAS_HOU  spring  ...  False   True  False  False             WN_HOU   \n",
       "2     GSP_ORD  winter  ...   True  False  False  False             MQ_ORD   \n",
       "3     BWI_MHT  spring  ...  False   True  False  False             WN_MHT   \n",
       "4     ORD_STL  summer  ...  False  False   True  False             UA_STL   \n",
       "\n",
       "  UniqueCarrier_Origin UniqueCarrier_Origin_Dest  Origin_Dest_Dep_minute  \\\n",
       "0               YV_MRY                YV_MRY_PHX              MRY_PHX_15   \n",
       "1               WN_LAS                WN_LAS_HOU              LAS_HOU_39   \n",
       "2               MQ_GSP                MQ_GSP_ORD              GSP_ORD_51   \n",
       "3               WN_BWI                WN_BWI_MHT              BWI_MHT_14   \n",
       "4               UA_ORD                UA_ORD_STL               ORD_STL_5   \n",
       "\n",
       "   Origin_Dest_Dep_hour  Dest_UniqueCarrier_Origin  \n",
       "0             MRY_PHX_6                 PHX_YV_MRY  \n",
       "1             LAS_HOU_7                 HOU_WN_LAS  \n",
       "2             GSP_ORD_6                 ORD_MQ_GSP  \n",
       "3            BWI_MHT_16                 MHT_WN_BWI  \n",
       "4            ORD_STL_15                 STL_UA_ORD  \n",
       "\n",
       "[5 rows x 28 columns]"
      ]
     },
     "execution_count": 461,
     "metadata": {},
     "output_type": "execute_result"
    }
   ],
   "source": [
    "test_df.head()"
   ]
  },
  {
   "cell_type": "markdown",
   "metadata": {},
   "source": [
    "Feature pairs interactions"
   ]
  },
  {
   "cell_type": "code",
   "execution_count": 246,
   "metadata": {},
   "outputs": [],
   "source": [
    "# train_df_interact = train_df.drop('dep_delayed_15min', axis=1).copy()\n",
    "# test_df_interact = test_df.copy()"
   ]
  },
  {
   "cell_type": "code",
   "execution_count": 247,
   "metadata": {},
   "outputs": [],
   "source": [
    "# cat_features = train_df_interact.columns[train_df_interact.dtypes == 'object']\n",
    "# for i, col1 in enumerate(cat_features):\n",
    "#     for j, col2 in enumerate(cat_features[i + 1:]):\n",
    "#         train_df_interact[col1 + '_' + col2] = train_df_interact[col1] + '_' + train_df_interact[col2]\n",
    "#         test_df_interact[col1 + '_' + col2] = test_df_interact[col1] + '_' + test_df_interact[col2]"
   ]
  },
  {
   "cell_type": "code",
   "execution_count": 248,
   "metadata": {},
   "outputs": [
    {
     "data": {
      "text/plain": [
       "((100000, 81), (100000, 81))"
      ]
     },
     "execution_count": 248,
     "metadata": {},
     "output_type": "execute_result"
    }
   ],
   "source": [
    "# train_df_interact.shape, test_df_interact.shape"
   ]
  },
  {
   "cell_type": "markdown",
   "metadata": {},
   "source": [
    "One Hot Encoding"
   ]
  },
  {
   "cell_type": "code",
   "execution_count": 83,
   "metadata": {},
   "outputs": [
    {
     "data": {
      "text/plain": [
       "(200000, 5737)"
      ]
     },
     "execution_count": 83,
     "metadata": {},
     "output_type": "execute_result"
    }
   ],
   "source": [
    "# %%time\n",
    "\n",
    "# df = pd.concat([train_df.drop('dep_delayed_15min', axis=1), test_df])\n",
    "# print(df.shape)\n",
    "\n",
    "# df_cat_dummies = pd.get_dummies(df, columns=df.columns[df.dtypes == 'object'])\n",
    "# print(df_cat_dummies.shape)"
   ]
  },
  {
   "cell_type": "code",
   "execution_count": 146,
   "metadata": {
    "scrolled": false
   },
   "outputs": [
    {
     "data": {
      "text/plain": [
       "(100000, 5737)"
      ]
     },
     "execution_count": 146,
     "metadata": {},
     "output_type": "execute_result"
    }
   ],
   "source": [
    "# train_df_cat_dummies = df_cat_dummies.iloc[:train_df.shape[0],:]\n",
    "# train_df_cat_dummies.shape"
   ]
  },
  {
   "cell_type": "code",
   "execution_count": 143,
   "metadata": {},
   "outputs": [
    {
     "data": {
      "text/plain": [
       "(100000, 5737)"
      ]
     },
     "execution_count": 143,
     "metadata": {},
     "output_type": "execute_result"
    }
   ],
   "source": [
    "# test_df_cat_dummies = df_cat_dummies.iloc[train_df.shape[0]:,:]\n",
    "# test_df_cat_dummies.shape"
   ]
  },
  {
   "cell_type": "code",
   "execution_count": 828,
   "metadata": {},
   "outputs": [],
   "source": [
    "# train_df_cat_dummies.columns\n",
    "# # train_df_cat_dummies.dtypes == 'object'"
   ]
  },
  {
   "cell_type": "markdown",
   "metadata": {},
   "source": [
    "Scaling"
   ]
  },
  {
   "cell_type": "code",
   "execution_count": 335,
   "metadata": {},
   "outputs": [],
   "source": [
    "# scaler = StandardScaler()\n",
    "\n",
    "# train_df[['DepTime', 'Distance']] = scaler.fit_transform(train_df[['DepTime', 'Distance']])\n",
    "# test_df[['DepTime', 'Distance']] = scaler.transform(test_df[['DepTime', 'Distance']])\n",
    "\n",
    "# # train_df_interact[['DepTime', 'Distance']] = scaler.fit_transform(train_df_interact[['DepTime', 'Distance']])\n",
    "# # test_df_interact[['DepTime', 'Distance']] = scaler.transform(test_df_interact[['DepTime', 'Distance']])\n"
   ]
  },
  {
   "cell_type": "markdown",
   "metadata": {},
   "source": [
    "Dataset is imbalanced. Calculate ratio for classes"
   ]
  },
  {
   "cell_type": "code",
   "execution_count": 26,
   "metadata": {},
   "outputs": [
    {
     "data": {
      "text/plain": [
       "[1, 4.250997689561016]"
      ]
     },
     "execution_count": 26,
     "metadata": {},
     "output_type": "execute_result"
    }
   ],
   "source": [
    "# ratio = float(np.sum(train_df['dep_delayed_15min'] == 'N')) / np.sum(np.sum(train_df['dep_delayed_15min'] == 'Y'))\n",
    "# class_weights=[1, ratio]\n",
    "# class_weights"
   ]
  },
  {
   "cell_type": "markdown",
   "metadata": {},
   "source": [
    "Remember indexes of categorical features (to be passed to Catboost)"
   ]
  },
  {
   "cell_type": "code",
   "execution_count": 483,
   "metadata": {},
   "outputs": [
    {
     "data": {
      "text/plain": [
       "(array([ 3,  4,  5,  6,  7,  8,  9, 10, 11, 12, 13, 15, 16, 17, 18, 19, 20,\n",
       "        21, 22, 23], dtype=int64),\n",
       " 20)"
      ]
     },
     "execution_count": 483,
     "metadata": {},
     "output_type": "execute_result"
    }
   ],
   "source": [
    "columns_to_drop = ['dep_delayed_15min', 'DepTime', 'Distance', 'Season', 'Origin_Dest_Dep_hour']\n",
    "\n",
    "cat_feat_idx = np.where(train_df.drop(columns_to_drop, axis=1).dtypes != 'int64')[0]\n",
    "\n",
    "# cat_feat_idx = np.where(train_df_interact.drop('DepTime', axis=1).dtypes == 'object')[0].tolist()\n",
    "cat_feat_idx, len(cat_feat_idx)"
   ]
  },
  {
   "cell_type": "code",
   "execution_count": 484,
   "metadata": {},
   "outputs": [
    {
     "name": "stdout",
     "output_type": "stream",
     "text": [
      "<class 'pandas.core.frame.DataFrame'>\n",
      "RangeIndex: 100000 entries, 0 to 99999\n",
      "Data columns (total 24 columns):\n",
      " #   Column                     Non-Null Count   Dtype \n",
      "---  ------                     --------------   ----- \n",
      " 0   Month                      100000 non-null  int64 \n",
      " 1   DayofMonth                 100000 non-null  int64 \n",
      " 2   DayOfWeek                  100000 non-null  int64 \n",
      " 3   UniqueCarrier              100000 non-null  object\n",
      " 4   Origin                     100000 non-null  object\n",
      " 5   Dest                       100000 non-null  object\n",
      " 6   Origin_Dest                100000 non-null  object\n",
      " 7   Weekend                    100000 non-null  object\n",
      " 8   Daytime                    100000 non-null  object\n",
      " 9   Dep_hour                   100000 non-null  object\n",
      " 10  Dep_hour_bin               100000 non-null  object\n",
      " 11  distance_bin               100000 non-null  object\n",
      " 12  Dep_hour_2                 100000 non-null  object\n",
      " 13  Dep_hour_4                 100000 non-null  object\n",
      " 14  Dep_minute                 100000 non-null  int64 \n",
      " 15  Winter                     100000 non-null  bool  \n",
      " 16  Spring                     100000 non-null  bool  \n",
      " 17  Summer                     100000 non-null  bool  \n",
      " 18  Autumn                     100000 non-null  bool  \n",
      " 19  UniqueCarrier_Dest         100000 non-null  object\n",
      " 20  UniqueCarrier_Origin       100000 non-null  object\n",
      " 21  UniqueCarrier_Origin_Dest  100000 non-null  object\n",
      " 22  Origin_Dest_Dep_minute     100000 non-null  object\n",
      " 23  Dest_UniqueCarrier_Origin  100000 non-null  object\n",
      "dtypes: bool(4), int64(4), object(16)\n",
      "memory usage: 15.6+ MB\n"
     ]
    }
   ],
   "source": [
    "train_df.drop(columns_to_drop, axis=1).info();"
   ]
  },
  {
   "cell_type": "markdown",
   "metadata": {},
   "source": [
    "#### Allocate validation (hold out) set to validate the model"
   ]
  },
  {
   "cell_type": "code",
   "execution_count": 485,
   "metadata": {},
   "outputs": [
    {
     "data": {
      "text/plain": [
       "((100000, 24), (100000, 24))"
      ]
     },
     "execution_count": 485,
     "metadata": {},
     "output_type": "execute_result"
    }
   ],
   "source": [
    "X_train = train_df.drop(columns_to_drop, axis=1).values\n",
    "# X_train = train_df_interact.drop('DepTime', axis=1)\n",
    "\n",
    "y_train = train_df['dep_delayed_15min'].map({'Y': 1, 'N': 0}).values\n",
    "\n",
    "X_test = test_df.drop(columns_to_drop[1:], axis=1).values\n",
    "# X_test = test_df_interact\n",
    "\n",
    "X_train.shape, X_test.shape"
   ]
  },
  {
   "cell_type": "code",
   "execution_count": 486,
   "metadata": {},
   "outputs": [],
   "source": [
    "X_train_part, X_valid, y_train_part, y_valid = train_test_split(X_train, y_train\n",
    "                                                                , test_size=0.2\n",
    "#                                                                 , stratify=y_train\n",
    "                                                                , random_state=1)"
   ]
  },
  {
   "cell_type": "code",
   "execution_count": 487,
   "metadata": {},
   "outputs": [
    {
     "data": {
      "text/plain": [
       "(80000, 24)"
      ]
     },
     "execution_count": 487,
     "metadata": {},
     "output_type": "execute_result"
    }
   ],
   "source": [
    "X_train_part.shape"
   ]
  },
  {
   "cell_type": "markdown",
   "metadata": {},
   "source": [
    "Train Catboost, passing only the indexes of categorical features"
   ]
  },
  {
   "cell_type": "code",
   "execution_count": 488,
   "metadata": {},
   "outputs": [],
   "source": [
    "# ctb = CatBoostClassifier(task_type='GPU', random_seed=17, silent=True) # catboost starter on GPU LB=0.72516\n",
    "\n",
    "# catboost starter on CPU LB=0.73807\n",
    "ctb = CatBoostClassifier(random_seed=17, silent=True\n",
    "                         , iterations=3000\n",
    "#                          , class_weights=class_weights #, auto_class_weights='SqrtBalanced'#'Balanced'\n",
    "#                          , max_depth = 6\n",
    "                         , loss_function='Logloss'\n",
    "                         , l2_leaf_reg=0.8\n",
    "                         , od_type='Iter'\n",
    "                        ) "
   ]
  },
  {
   "cell_type": "code",
   "execution_count": 489,
   "metadata": {},
   "outputs": [
    {
     "name": "stdout",
     "output_type": "stream",
     "text": [
      "Wall time: 19min 29s\n"
     ]
    },
    {
     "data": {
      "text/plain": [
       "<catboost.core.CatBoostClassifier at 0x1fe0e080f48>"
      ]
     },
     "execution_count": 489,
     "metadata": {},
     "output_type": "execute_result"
    }
   ],
   "source": [
    "%%time\n",
    "# @CPU: ~13 min with 21 features\n",
    "ctb.fit(X_train_part, y_train_part, cat_features=cat_feat_idx);"
   ]
  },
  {
   "cell_type": "code",
   "execution_count": 490,
   "metadata": {},
   "outputs": [
    {
     "data": {
      "text/plain": [
       "0.8301733965111951"
      ]
     },
     "execution_count": 490,
     "metadata": {},
     "output_type": "execute_result"
    }
   ],
   "source": [
    "ctb_valid_pred = ctb.predict_proba(X_valid)[:, 1]\n",
    "\n",
    "roc_auc_score(y_valid, ctb_valid_pred)"
   ]
  },
  {
   "cell_type": "markdown",
   "metadata": {},
   "source": [
    "Result analysis"
   ]
  },
  {
   "cell_type": "code",
   "execution_count": 491,
   "metadata": {},
   "outputs": [
    {
     "name": "stdout",
     "output_type": "stream",
     "text": [
      "(array([0, 1], dtype=int64), array([16296,  3704], dtype=int64))\n"
     ]
    },
    {
     "data": {
      "text/html": [
       "<div>\n",
       "<style scoped>\n",
       "    .dataframe tbody tr th:only-of-type {\n",
       "        vertical-align: middle;\n",
       "    }\n",
       "\n",
       "    .dataframe tbody tr th {\n",
       "        vertical-align: top;\n",
       "    }\n",
       "\n",
       "    .dataframe thead th {\n",
       "        text-align: right;\n",
       "    }\n",
       "</style>\n",
       "<table border=\"1\" class=\"dataframe\">\n",
       "  <thead>\n",
       "    <tr style=\"text-align: right;\">\n",
       "      <th>Predicted</th>\n",
       "      <th>0</th>\n",
       "      <th>1</th>\n",
       "      <th>All</th>\n",
       "    </tr>\n",
       "    <tr>\n",
       "      <th>Validation</th>\n",
       "      <th></th>\n",
       "      <th></th>\n",
       "      <th></th>\n",
       "    </tr>\n",
       "  </thead>\n",
       "  <tbody>\n",
       "    <tr>\n",
       "      <th>0</th>\n",
       "      <td>15557</td>\n",
       "      <td>739</td>\n",
       "      <td>16296</td>\n",
       "    </tr>\n",
       "    <tr>\n",
       "      <th>1</th>\n",
       "      <td>2417</td>\n",
       "      <td>1287</td>\n",
       "      <td>3704</td>\n",
       "    </tr>\n",
       "    <tr>\n",
       "      <th>All</th>\n",
       "      <td>17974</td>\n",
       "      <td>2026</td>\n",
       "      <td>20000</td>\n",
       "    </tr>\n",
       "  </tbody>\n",
       "</table>\n",
       "</div>"
      ],
      "text/plain": [
       "Predicted       0     1    All\n",
       "Validation                    \n",
       "0           15557   739  16296\n",
       "1            2417  1287   3704\n",
       "All         17974  2026  20000"
      ]
     },
     "execution_count": 491,
     "metadata": {},
     "output_type": "execute_result"
    }
   ],
   "source": [
    "print(np.unique(y_valid, return_counts=True))\n",
    "\n",
    "pd.crosstab(\n",
    "    pd.Series(y_valid, name='Validation'),\n",
    "    pd.Series((ctb_valid_pred > 0.5).astype('int'), name='Predicted'),\n",
    "    margins=True\n",
    ")"
   ]
  },
  {
   "cell_type": "code",
   "execution_count": 492,
   "metadata": {},
   "outputs": [
    {
     "name": "stdout",
     "output_type": "stream",
     "text": [
      "Accuracy: 0.8422\n",
      "Precision: 0.6352\n",
      "Recall: 0.3475\n",
      "F1 score: 0.4492\n"
     ]
    }
   ],
   "source": [
    "# seems like more Accuracy + Precision + F1 score = more LB score\n",
    "print('Accuracy: {0:.4f}'.format(accuracy_score(y_valid, ctb_valid_pred>0.5)))\n",
    "print('Precision: {0:.4f}'.format(precision_score(y_valid, ctb_valid_pred>0.5)))\n",
    "print('Recall: {0:.4f}'.format(recall_score(y_valid, ctb_valid_pred>0.5)))\n",
    "print('F1 score: {0:.4f}'.format(f1_score(y_valid, ctb_valid_pred>0.5)))"
   ]
  },
  {
   "cell_type": "markdown",
   "metadata": {},
   "source": [
    "Catboost get_feature_importance"
   ]
  },
  {
   "cell_type": "code",
   "execution_count": 482,
   "metadata": {},
   "outputs": [
    {
     "data": {
      "text/plain": [
       "(Index(['Month', 'DayofMonth', 'DayOfWeek', 'UniqueCarrier', 'Origin', 'Dest',\n",
       "        'Origin_Dest', 'Weekend', 'Daytime', 'Dep_hour', 'Dep_hour_bin',\n",
       "        'distance_bin', 'Dep_hour_2', 'Dep_hour_4', 'Dep_minute', 'Winter',\n",
       "        'Spring', 'Summer', 'Autumn', 'UniqueCarrier_Dest',\n",
       "        'UniqueCarrier_Origin', 'UniqueCarrier_Origin_Dest',\n",
       "        'Origin_Dest_Dep_minute', 'Origin_Dest_Dep_hour',\n",
       "        'Dest_UniqueCarrier_Origin'],\n",
       "       dtype='object'),\n",
       " array([ 3,  4,  5,  6,  7,  8,  9, 10, 11, 12, 13, 15, 16, 17, 18, 19, 20,\n",
       "        21, 22, 23, 24], dtype=int64))"
      ]
     },
     "execution_count": 482,
     "metadata": {},
     "output_type": "execute_result"
    }
   ],
   "source": [
    "train_df.drop(columns_to_drop, axis=1).dtypes.index, cat_feat_idx"
   ]
  },
  {
   "cell_type": "code",
   "execution_count": 493,
   "metadata": {},
   "outputs": [
    {
     "data": {
      "image/png": "[encoded data removed]",
      "text/plain": [
       "<Figure size 1296x648 with 1 Axes>"
      ]
     },
     "metadata": {},
     "output_type": "display_data"
    }
   ],
   "source": [
    "method = 'LossFunctionChange'#'PredictionValuesChange'\n",
    "fi = ctb.get_feature_importance(Pool(X_valid, label=y_valid, cat_features=cat_feat_idx), type=method)\n",
    "\n",
    "feature_score = pd.DataFrame(list(zip(train_df.drop(columns_to_drop, axis=1).dtypes.index, fi )), columns=['Feature','Score'])\n",
    "feature_score = feature_score.sort_values(by='Score', ascending=False, inplace=False, \n",
    "                                          kind='quicksort', na_position='last')\n",
    "plt.rcParams[\"figure.figsize\"] = (18,9)\n",
    "ax = feature_score.plot('Feature', 'Score', kind='bar', color='c')\n",
    "ax.set_title(\"Feature Importance using {}\".format(method), fontsize = 14)\n",
    "ax.set_xlabel(\"features\")\n",
    "plt.show()"
   ]
  },
  {
   "cell_type": "markdown",
   "metadata": {},
   "source": [
    "Catboost interaction feature importance"
   ]
  },
  {
   "cell_type": "code",
   "execution_count": 352,
   "metadata": {},
   "outputs": [
    {
     "data": {
      "text/plain": [
       "[['UniqueCarrier_Origin_Dest', 2.8085853772733245],\n",
       " ['Origin_Dest_Dep_minute', 2.4488777247335247],\n",
       " ['Origin_Dest_Dep_hour', 2.2609800654543943],\n",
       " ['Dest_UniqueCarrier_Origin', 1.9121968337058999],\n",
       " ['Origin_UniqueCarrier_Dest', 1.8637460171291174],\n",
       " ['Origin_Dest_UniqueCarrier_Dest', 1.7848217328582798],\n",
       " ['Origin_Dest_Dep_hour_bin', 1.5805497078261856],\n",
       " ['Origin_distance_bin', 1.538771178620133],\n",
       " ['Dest_distance_bin', 1.4994455241715978],\n",
       " ['Dest_Dep_hour_bin', 1.463429059376228],\n",
       " ['Month_DayofMonth', 1.3916947406995945],\n",
       " ['UniqueCarrier_Dep_minute', 1.329113386831846],\n",
       " ['UniqueCarrier_Dep_hour_bin', 1.307856370906315],\n",
       " ['Dep_hour_UniqueCarrier_Origin', 1.3026277773869455],\n",
       " ['Origin_Dep_hour_bin', 1.2732603436370138],\n",
       " ['Dest_Dep_hour', 1.2534218779591944],\n",
       " ['UniqueCarrier_Dep_hour', 1.2013374568255863],\n",
       " ['Origin_Dest_Daytime', 1.1427127784947115],\n",
       " ['UniqueCarrier_Daytime', 1.1422714409832784],\n",
       " ['Daytime_UniqueCarrier_Dest', 1.0940989945954003],\n",
       " ['distance_bin_UniqueCarrier_Dest', 1.0940371938396127],\n",
       " ['UniqueCarrier_distance_bin', 1.0628855416626029],\n",
       " ['Origin_Dep_minute', 1.0350444174592364],\n",
       " ['Origin_Dep_hour', 1.0311280519448023],\n",
       " ['DayofMonth_Dest', 1.0283835564026742],\n",
       " ['DayofMonth_UniqueCarrier_Dest', 0.9999907310936529],\n",
       " ['Daytime_UniqueCarrier_Origin', 0.9874433577238486],\n",
       " ['Origin_Daytime', 0.9673105400387617],\n",
       " ['Dep_hour_bin_UniqueCarrier_Origin', 0.9560328585276386],\n",
       " ['DayofMonth_Origin', 0.9508401321866051],\n",
       " ['Dep_minute_UniqueCarrier_Origin', 0.9369136208574028],\n",
       " ['Dest_Daytime', 0.926081407967228],\n",
       " ['Dest_Dep_minute', 0.8941575442058003],\n",
       " ['Origin_Origin_Dest', 0.8884767488071637],\n",
       " ['distance_bin_UniqueCarrier_Origin', 0.8803535177285859],\n",
       " ['Origin_Dest_UniqueCarrier_Origin', 0.8795595679291301],\n",
       " ['Dep_hour_bin_UniqueCarrier_Dest', 0.8704023343088886],\n",
       " ['UniqueCarrier_Dest', 0.8609717237205982],\n",
       " ['DayofMonth_Origin_Dest', 0.8543274621858511],\n",
       " ['Dep_hour_Dep_minute', 0.8268900998664928],\n",
       " ['Month_Dest', 0.8242999871443761],\n",
       " ['UniqueCarrier_Origin', 0.7917020334744096],\n",
       " ['DayOfWeek_Dest', 0.7677992745667271],\n",
       " ['Origin_UniqueCarrier_Origin', 0.7671404608964576],\n",
       " ['Month_UniqueCarrier_Origin', 0.7662099401380258],\n",
       " ['Dep_hour_2_UniqueCarrier_Origin', 0.7496697081656356],\n",
       " ['DayofMonth_UniqueCarrier_Origin', 0.7373626134981387],\n",
       " ['Dest_Origin_Dest', 0.7322314059886612],\n",
       " ['Dest_UniqueCarrier_Dest', 0.7217337950376264],\n",
       " ['UniqueCarrier_UniqueCarrier_Dest', 0.712970214014124]]"
      ]
     },
     "execution_count": 352,
     "metadata": {},
     "output_type": "execute_result"
    }
   ],
   "source": [
    "fi = ctb.get_feature_importance(Pool(X_valid, label=y_valid, cat_features=cat_feat_idx), type=\"Interaction\")\n",
    "fi_decoded = []\n",
    "for k,item in enumerate(fi):  \n",
    "    first = train_df.drop(columns_to_drop, axis=1).dtypes.index[fi[k][0]]\n",
    "    second = train_df.drop(columns_to_drop, axis=1).dtypes.index[fi[k][1]]\n",
    "    if first != second:\n",
    "        fi_decoded.append([first + \"_\" + second, fi[k][2]])\n",
    "\n",
    "fi_decoded[:50]"
   ]
  },
  {
   "cell_type": "code",
   "execution_count": 353,
   "metadata": {},
   "outputs": [
    {
     "data": {
      "image/png": "[encoded data removed]",
      "text/plain": [
       "<Figure size 1296x648 with 1 Axes>"
      ]
     },
     "metadata": {},
     "output_type": "display_data"
    }
   ],
   "source": [
    "feature_score = pd.DataFrame(fi_decoded[:50],columns=['Feature-Pair','Score'])\n",
    "feature_score = feature_score.sort_values(by='Score', ascending=False, inplace=False, \n",
    "                                          kind='quicksort', na_position='last')\n",
    "ax = feature_score.plot('Feature-Pair', 'Score', kind='bar', color='c')\n",
    "ax.set_title(\"Pairwise Feature Importance\", fontsize = 14)\n",
    "ax.set_xlabel(\"features Pair\")\n",
    "plt.show()"
   ]
  },
  {
   "cell_type": "markdown",
   "metadata": {},
   "source": [
    "Fine tuning model"
   ]
  },
  {
   "cell_type": "code",
   "execution_count": null,
   "metadata": {},
   "outputs": [],
   "source": [
    "iteration = [50, 100, 150, 200, 250, 300, 350, 400, 450, 500, 550, 600, 650, 700, 750, 800]\n",
    "roc_auc_scores = []\n",
    "for i in tqdm(iteration):\n",
    "    model = CatBoostClassifier(one_hot_max_size = 10, iterations = i)\n",
    "    model.fit(X_train_part, y_train_part,\n",
    "    cat_features = categorical_features_indices,\n",
    "    verbose = False\n",
    "    )\n",
    "    roc_auc_scores.append((i, roc_auc_score(y_valid, ctb.predict_proba(X_valid)[:, 1]), \n",
    "                              roc_auc_score(y_train_part, ctb.predict_proba(X_train_part)[:, 1]))\n",
    "#     print(i)"
   ]
  },
  {
   "cell_type": "code",
   "execution_count": null,
   "metadata": {},
   "outputs": [],
   "source": []
  },
  {
   "cell_type": "markdown",
   "metadata": {},
   "source": [
    "Train on the whole train set, make prediction on the test set"
   ]
  },
  {
   "cell_type": "code",
   "execution_count": 494,
   "metadata": {},
   "outputs": [
    {
     "name": "stdout",
     "output_type": "stream",
     "text": [
      "Wall time: 20min 9s\n"
     ]
    },
    {
     "data": {
      "text/plain": [
       "<catboost.core.CatBoostClassifier at 0x1fe0e080f48>"
      ]
     },
     "execution_count": 494,
     "metadata": {},
     "output_type": "execute_result"
    }
   ],
   "source": [
    "%%time\n",
    "# ~23 min\n",
    "ctb.fit(X_train, y_train, cat_features = cat_feat_idx);"
   ]
  },
  {
   "cell_type": "code",
   "execution_count": 495,
   "metadata": {},
   "outputs": [
    {
     "data": {
      "text/plain": [
       "array([0.02049526, 0.02922077, 0.14367201, ..., 0.30576809, 0.11909075,\n",
       "       0.14590901])"
      ]
     },
     "execution_count": 495,
     "metadata": {},
     "output_type": "execute_result"
    }
   ],
   "source": [
    "ctb_test_pred = ctb.predict_proba(X_test)[:, 1]\n",
    "ctb_test_pred"
   ]
  },
  {
   "cell_type": "code",
   "execution_count": 496,
   "metadata": {},
   "outputs": [],
   "source": [
    "# create submission\n",
    "file_name = 'catboost_submission_28.csv'\n",
    "create_submission(ctb_test_pred, file_name)"
   ]
  },
  {
   "cell_type": "code",
   "execution_count": 497,
   "metadata": {},
   "outputs": [
    {
     "name": "stdout",
     "output_type": "stream",
     "text": [
      "id,dep_delayed_15min\n",
      "0,0.020495261955141283\n",
      "1,0.02922077046474003\n",
      "2,0.1436720100585137\n",
      "3,0.5670522697789457\n",
      "4,0.23030762180734082\n",
      "5,0.03624285500339586\n",
      "6,0.1829610618235192\n",
      "7,0.4496707817647739\n",
      "8,0.16188609424543451\n"
     ]
    }
   ],
   "source": [
    "!head $file_name"
   ]
  },
  {
   "cell_type": "markdown",
   "metadata": {},
   "source": [
    "Plot validation scores vs. leaderboard scores"
   ]
  },
  {
   "cell_type": "code",
   "execution_count": 504,
   "metadata": {},
   "outputs": [],
   "source": [
    "valid_scores = [.7697143106015093, .7761791210944395, .7777267353347364, .7653451079072361, .7668237499853245,\n",
    "                .7612751737671465, .7723618902901401, .7568477375231719, .774466730412704, .7748389710820769, \n",
    "                .7800015194055628, .7879981245049293, .8223961100048669, .8011476865355927, .8203784290040302, \n",
    "                .8231312279259192, .8266491644585959, .8225516093469518, .8248850438062155, .8300062007557806,\n",
    "                .8291074490182171, .8276485119776574, .8295914585301511, .8301733965111951, \n",
    "                \n",
    "               ]\n",
    "lb_scores = [.73807, .73649, .73630, .73605, .73512, .73115, .72794, .73997, .73166, .73117, .73690, .73813, \n",
    "             .76240, .74786, .76522, .76517, .76246, .76228, .76377, .76528, .76610, .76303, .76315, .76750,\n",
    "             \n",
    "            ]\n",
    "TOP_SCORES_TO_VIEW = 10"
   ]
  },
  {
   "cell_type": "code",
   "execution_count": 505,
   "metadata": {},
   "outputs": [
    {
     "data": {
      "image/png": "[encoded data removed]",
      "text/plain": [
       "<Figure size 1296x648 with 1 Axes>"
      ]
     },
     "metadata": {},
     "output_type": "display_data"
    }
   ],
   "source": [
    "sns.lineplot(x=valid_scores[-TOP_SCORES_TO_VIEW:], y=lb_scores[-TOP_SCORES_TO_VIEW:], marker='o');"
   ]
  },
  {
   "cell_type": "code",
   "execution_count": null,
   "metadata": {},
   "outputs": [],
   "source": []
  }
 ],
 "metadata": {
  "kernelspec": {
   "display_name": "Python 3",
   "language": "python",
   "name": "python3"
  },
  "language_info": {
   "codemirror_mode": {
    "name": "ipython",
    "version": 3
   },
   "file_extension": ".py",
   "mimetype": "text/x-python",
   "name": "python",
   "nbconvert_exporter": "python",
   "pygments_lexer": "ipython3",
   "version": "3.7.6"
  }
 },
 "nbformat": 4,
 "nbformat_minor": 4
}
